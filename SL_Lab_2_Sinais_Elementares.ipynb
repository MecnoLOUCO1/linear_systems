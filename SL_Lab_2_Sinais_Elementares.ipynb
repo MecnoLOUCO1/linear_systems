{
 "cells": [
  {
   "cell_type": "markdown",
   "metadata": {},
   "source": [
    "# Sinais Elementares e Operações Básicas"
   ]
  },
  {
   "cell_type": "markdown",
   "metadata": {},
   "source": [
    "## Objetivos"
   ]
  },
  {
   "cell_type": "markdown",
   "metadata": {},
   "source": [
    "<ul><li>Estudar os sinais elementares de tempo contínuo e discreto;</li>\n",
    "<li>Realizar simulações computacionais de geração de sinais elementares;</li>\n",
    "<li>Realizar operações básicas com sinais elementares.</li>"
   ]
  },
  {
   "cell_type": "markdown",
   "metadata": {},
   "source": [
    "## Fundamentação Teórica"
   ]
  },
  {
   "cell_type": "markdown",
   "metadata": {},
   "source": [
    "### Sinais Elementares"
   ]
  },
  {
   "cell_type": "markdown",
   "metadata": {},
   "source": [
    "Os sinais elementares aparecem com maior frequência no estudo dos sistemas lineares, dentre os quais se destacam: o degrau unitário, o impulso unitário, a rampa, os sinais exponenciais e senoidais. Esses sinais são usados na construção de sinais mais complexos.\n",
    "<ul><li>**Impulso Unitário** (Delta de Dirac)</li></ul>"
   ]
  },
  {
   "cell_type": "markdown",
   "metadata": {},
   "source": [
    "O sinal **Impulso Unitário** de tempo contínuo, $\\delta(t)$ (delta minúsculo), também é conhecido como função Delta de Dirac, é definido pelas seguintes relações:"
   ]
  },
  {
   "cell_type": "markdown",
   "metadata": {},
   "source": [
    "$$\\delta(t)=0\\;\\;\\;\\textrm{para}\\;\\;t\\neq0$$"
   ]
  },
  {
   "cell_type": "markdown",
   "metadata": {},
   "source": [
    "$$\\int_{-\\infty}^{\\infty}\\delta(t)dt=1$$"
   ]
  },
  {
   "cell_type": "code",
   "execution_count": 28,
   "metadata": {
    "collapsed": true
   },
   "outputs": [],
   "source": [
    "% matplotlib inline\n",
    "from numpy import linspace, zeros, pi, cos, exp\n",
    "from pylab import plot, axis, grid, xlabel, ylabel, title"
   ]
  },
  {
   "cell_type": "code",
   "execution_count": 16,
   "metadata": {
    "collapsed": false
   },
   "outputs": [
    {
     "data": {
      "text/plain": [
       "<matplotlib.text.Text at 0x8ece9f0>"
      ]
     },
     "execution_count": 16,
     "metadata": {},
     "output_type": "execute_result"
    },
    {
     "data": {
      "image/png": "[encoded data removed]",
      "text/plain": [
       "<matplotlib.figure.Figure at 0x8c8e190>"
      ]
     },
     "metadata": {},
     "output_type": "display_data"
    }
   ],
   "source": [
    "'''Impulso Unitário Contínuo (Delta de Dirac)'''\n",
    "t = linspace(-3,3,1000)\n",
    "dD = zeros(1000,dtype=float)     # delta de Dirac\n",
    "dD[len(dD)/2] = 1.               # impulso de área 1 na origem (t = 0)\n",
    "plot(t,dD); plot(0.,1.,'^'); axis((-3.5,3.5,-0.5,1.5)); grid('on')\n",
    "xlabel('$t$',fontsize=16); ylabel('$\\delta(t)$',fontsize=16); title(u'Impulso Unitário')"
   ]
  },
  {
   "cell_type": "markdown",
   "metadata": {},
   "source": [
    "<ul><li>**Degrau Unitário** (Função de Heaviside)</li>\n",
    "\n",
    "O sinal **Degrau Unitário** de tempo contínuo, comumente representado por $u(t)$, é definido por:\n"
   ]
  },
  {
   "cell_type": "markdown",
   "metadata": {},
   "source": [
    "$$u(t)=\\left\\{\\begin{matrix}\n",
    "1,\\;\\;t\\geq0\\\\ \n",
    "0,\\;\\;t<0\n",
    "\\end{matrix}\\right.$$"
   ]
  },
  {
   "cell_type": "code",
   "execution_count": 22,
   "metadata": {
    "collapsed": false
   },
   "outputs": [
    {
     "data": {
      "text/plain": [
       "<matplotlib.text.Text at 0xab45d90>"
      ]
     },
     "execution_count": 22,
     "metadata": {},
     "output_type": "execute_result"
    },
    {
     "data": {
      "image/png": "[encoded data removed]",
      "text/plain": [
       "<matplotlib.figure.Figure at 0xa9e36d0>"
      ]
     },
     "metadata": {},
     "output_type": "display_data"
    }
   ],
   "source": [
    "'''Degrau Unitário Contínuo (Heaviside)'''\n",
    "t = linspace(-5,5,1000)\n",
    "u = zeros(1000,dtype=float)      # degrau unitário: u(t)\n",
    "u[t>=0] = 1.                     # impulso de área 1 na origem (t = 0)\n",
    "plot(t,u); axis((-5.5,5.5,-0.5,1.5)); grid('on')\n",
    "xlabel('$t$',fontsize=16); ylabel('$\\delta(t)$',fontsize=16); title(u'Degrau Unitário')"
   ]
  },
  {
   "cell_type": "markdown",
   "metadata": {},
   "source": [
    "Este sinal pode representar o fechamento de uma chave, colocada em série com uma carga e uma fonte de alimentação de valor  $v_s$, conforme Figura 1. Se o fechamento ocorre no instante $t=0$, então:"
   ]
  },
  {
   "cell_type": "markdown",
   "metadata": {},
   "source": [
    "$$v_{out}(t)=\\left\\{\\begin{matrix}\n",
    "0,\\;\\;\\;-\\infty\\lt t\\lt0\\\\ \n",
    "v_s,\\;\\;\\;0\\leq t<\\infty\n",
    "\\end{matrix}\\right.$$"
   ]
  },
  {
   "cell_type": "markdown",
   "metadata": {},
   "source": [
    "<img src=\"circuito1.png\"><img src=\"circuito1_vout.png\">"
   ]
  },
  {
   "cell_type": "markdown",
   "metadata": {
    "deletable": true,
    "editable": true
   },
   "source": [
    "<ul><li>**Rampa**</li>\n",
    "\n",
    "O sinal **Rampa** de tempo contínuo é geralmente denotado por $r(t)$, é definido por:\n"
   ]
  },
  {
   "cell_type": "markdown",
   "metadata": {
    "deletable": true,
    "editable": true
   },
   "source": [
    "$$r(t)=\\left\\{\\begin{matrix}\n",
    "t,\\;\\;t\\geq0\\\\ \n",
    "0,\\;\\;t<0\n",
    "\\end{matrix}\\right.$$"
   ]
  },
  {
   "cell_type": "code",
   "execution_count": 21,
   "metadata": {
    "collapsed": false,
    "deletable": true,
    "editable": true
   },
   "outputs": [
    {
     "data": {
      "text/plain": [
       "<matplotlib.text.Text at 0xa9b30d0>"
      ]
     },
     "execution_count": 21,
     "metadata": {},
     "output_type": "execute_result"
    },
    {
     "data": {
      "image/png": "[encoded data removed]",
      "text/plain": [
       "<matplotlib.figure.Figure at 0x8edfd70>"
      ]
     },
     "metadata": {},
     "output_type": "display_data"
    }
   ],
   "source": [
    "'''Rampa de inclinação unitária'''\n",
    "t = linspace(-5,5,1000)\n",
    "r = t                         # rampa\n",
    "plot(t,r); axis((-5.5,5.5,-5.5,5.5)); grid('on')\n",
    "xlabel('$t$',fontsize=16); ylabel('$r(t)$',fontsize=16); title(u'Rampa')"
   ]
  },
  {
   "cell_type": "markdown",
   "metadata": {
    "deletable": true,
    "editable": true
   },
   "source": [
    "<ul><li>**Senóide**</li>\n",
    "\n",
    "O sinal **senoidal** de tempo contínuo de período $T=\\frac{2\\pi}{\\omega}$ e fase $\\theta$ pode ser descrito por:\n"
   ]
  },
  {
   "cell_type": "markdown",
   "metadata": {
    "deletable": true,
    "editable": true
   },
   "source": [
    "$$x(t)=A.cos(\\omega.t+\\theta)$$"
   ]
  },
  {
   "cell_type": "code",
   "execution_count": 27,
   "metadata": {
    "collapsed": false,
    "deletable": true,
    "editable": true
   },
   "outputs": [
    {
     "data": {
      "text/plain": [
       "<matplotlib.text.Text at 0x90b1290>"
      ]
     },
     "execution_count": 27,
     "metadata": {},
     "output_type": "execute_result"
    },
    {
     "data": {
      "image/png": "[encoded data removed]",
      "text/plain": [
       "<matplotlib.figure.Figure at 0x957a9d0>"
      ]
     },
     "metadata": {},
     "output_type": "display_data"
    }
   ],
   "source": [
    "'''Senóide'''\n",
    "t = linspace(-5,5,1000)\n",
    "A = 2.; omega = 2*pi*0.5; theta = pi/4\n",
    "x = A*cos(omega*t + theta)                  # cossenóide\n",
    "plot(t,x); axis((-5.5,5.5,-2.5,2.5)); grid('on')\n",
    "xlabel('$t$',fontsize=16); ylabel('$x(t)$',fontsize=16); title(u'Cossenóide')"
   ]
  },
  {
   "cell_type": "markdown",
   "metadata": {
    "deletable": true,
    "editable": true
   },
   "source": [
    "<ul><li>**Senóide Exponencialmente Amortecida**</li>\n",
    "\n",
    "A multiplicação de uma senóide por um sinal exponencial decrescente resulta no sinal **Senoidal Exponencialmente Amortecido**, que é descrito pela equação:\n"
   ]
  },
  {
   "cell_type": "markdown",
   "metadata": {
    "deletable": true,
    "editable": true
   },
   "source": [
    "$$x(t)=e^{-\\alpha t}A.cos(\\omega.t+\\theta),\\;\\;\\;\\;\\textrm{para}\\;\\;\\;\\alpha>0$$"
   ]
  },
  {
   "cell_type": "code",
   "execution_count": 37,
   "metadata": {
    "collapsed": false,
    "deletable": true,
    "editable": true
   },
   "outputs": [
    {
     "data": {
      "text/plain": [
       "<matplotlib.text.Text at 0xb7505b0>"
      ]
     },
     "execution_count": 37,
     "metadata": {},
     "output_type": "execute_result"
    },
    {
     "data": {
      "image/png": "[encoded data removed]",
      "text/plain": [
       "<matplotlib.figure.Figure at 0xb5be890>"
      ]
     },
     "metadata": {},
     "output_type": "display_data"
    }
   ],
   "source": [
    "'''Senóide Exponencialmente Amortecida. '''\n",
    "t = linspace(-5,5,1000)\n",
    "A = 2.; omega = 2*pi*1; theta = pi/4; alfa = 0.5\n",
    "y = exp(-alfa*t)*A*cos(omega*t + theta)                  # cossenóide exponencialmente amortecida\n",
    "plot(t,y); grid('on')\n",
    "xlabel('$t$',fontsize=16); ylabel('$y(t)$',fontsize=16); title(u'Cossenóide Exp. Amortecida')"
   ]
  },
  {
   "cell_type": "markdown",
   "metadata": {},
   "source": [
    "O gráfico anterior mostra a forma de onda do sinal exponencialmente amortecida com amplitude $A=2,\\;\\alpha=0,5,\\;\\theta=\\pi/4$.  <p>Para o tempo crescente $t$, a amplitude da oscilação senoidal decresce de maneira exponencial, aproximando-se de zero no tempo infinito."
   ]
  },
  {
   "cell_type": "markdown",
   "metadata": {
    "deletable": true,
    "editable": true
   },
   "source": [
    "### Operações Básicas com Sinais"
   ]
  },
  {
   "cell_type": "markdown",
   "metadata": {},
   "source": [
    "#### Operações com a <h3 style=\"color:Tomato;\">Variável Dependente:"
   ]
  },
  {
   "cell_type": "markdown",
   "metadata": {
    "deletable": true,
    "editable": true
   },
   "source": [
    "<ul><li>**Mudança da  Amplitude**:\t$y(t)=c.x(t)$, onde $c$ é um valor escalar (fator de escala).</li>\n",
    "\n",
    "<p>Os amplificadores eletrônicos realizam esse tipo de operação nos sinais. Um resistor também realiza essa operação, em que $x(t)$ é a corrente, $c$ é a resistência, e $y(t)$ é a tensão nos terminais do resistor.\n",
    "<p>\n",
    "<li>**Adição**:\t$y(t)=x_1(t)+x_2(t)$</li>\n",
    "\n",
    "<p>Misturadores (*mixers*) realizam a soma de sinais, combinando sinais de instrumentos musicais e microfones (mixers de áudio).\n",
    "<p>\n",
    "<li>**Multiplicação**: $y(t)=x_1(t).x_2(t)$</li>\n",
    "\n",
    "<p>Sinais de rádio AM são obtidos a partir da multiplicação de um sinal de áudio (música, por exemplo) multiplicado por uma onda portadora (de alta frequência, ou seja, a frequência de sintonia da emissora de rádio).\n",
    "<p>\n",
    "<li>**Diferenciação**:  $\\frac{d}{dt}x(t)$</li>\n",
    "\n",
    "A tensão nos terminais de um indutor é obtida através da diferenciação da corrente que o atravessa em relação ao tempo: $v_L(t)=L.\\frac{d}{dt}i(t)$<p>\n",
    "\n",
    "<li>**Integração**: $\\int_{-\\infty}^t x(\\tau)d\\tau$</li>\n",
    "<p>A tensão nos terminais de um capacitor é obtida através da integração da corrente que o atravessa em relação ao tempo: $v_C(t)=\\frac{1}{C}\\int_{-\\infty}^t i(\\tau)d\\tau$\n"
   ]
  },
  {
   "cell_type": "code",
   "execution_count": null,
   "metadata": {
    "collapsed": true
   },
   "outputs": [],
   "source": []
  },
  {
   "cell_type": "markdown",
   "metadata": {
    "deletable": true,
    "editable": true
   },
   "source": [
    "#### Operações com a <h3 style=\"color:Tomato;\">Variável Independente:"
   ]
  },
  {
   "cell_type": "markdown",
   "metadata": {
    "deletable": true,
    "editable": true
   },
   "source": [
    "<ul><li>**Mudança de Escala Temporal**:\t$y(t)=x(a.t)$, se $a>1$ então $y(t)$ será uma versão comprimida no tempo, do sinal $x(t)$, e se $0<a<1$ então $y(t)$ será uma versão expandida no tempo, de $x(t)$. "
   ]
  },
  {
   "cell_type": "code",
   "execution_count": 40,
   "metadata": {
    "collapsed": false
   },
   "outputs": [
    {
     "data": {
      "text/plain": [
       "<matplotlib.text.Text at 0xb859d10>"
      ]
     },
     "execution_count": 40,
     "metadata": {},
     "output_type": "execute_result"
    },
    {
     "data": {
      "image/png": "[encoded data removed]",
      "text/plain": [
       "<matplotlib.figure.Figure at 0xba40710>"
      ]
     },
     "metadata": {},
     "output_type": "display_data"
    }
   ],
   "source": [
    "'''Sinal Triangular - Comprimido e Expandido no tempo'''\n",
    "t = linspace(-5,5,1000)\n",
    "w = zeros(1000)                                # sinal triangular\n",
    "w[(t>=-1)*(t<0)] = t[(t>=-1)*(t<0)] + 1        # sinal rampa adiantado de 1 (unidade de tempo)\n",
    "w[(t>=0)*(t<1)] = -(t[(t>=0)*(t<1)] - 1)       # sinal rampa atrasado de 1 (unidade de tempo)\n",
    "plot(t,w); grid('on')\n",
    "xlabel('$t$',fontsize=16); ylabel('$w(t)$',fontsize=16); title('Sinal Triangular')\n",
    "\n",
    "# Expansão - escala 2\n",
    "te = t/2."
   ]
  },
  {
   "cell_type": "code",
   "execution_count": null,
   "metadata": {
    "collapsed": true
   },
   "outputs": [],
   "source": []
  }
 ],
 "metadata": {
  "kernelspec": {
   "display_name": "Python 2",
   "language": "python",
   "name": "python2"
  },
  "language_info": {
   "codemirror_mode": {
    "name": "ipython",
    "version": 2
   },
   "file_extension": ".py",
   "mimetype": "text/x-python",
   "name": "python",
   "nbconvert_exporter": "python",
   "pygments_lexer": "ipython2",
   "version": "2.7.9"
  }
 },
 "nbformat": 4,
 "nbformat_minor": 2
}
